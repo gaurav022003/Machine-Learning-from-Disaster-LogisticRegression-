{
 "cells": [
  {
   "cell_type": "code",
   "execution_count": 1,
   "id": "3ef92019",
   "metadata": {
    "_cell_guid": "b1076dfc-b9ad-4769-8c92-a6c4dae69d19",
    "_uuid": "8f2839f25d086af736a60e9eeb907d3b93b6e0e5",
    "execution": {
     "iopub.execute_input": "2022-09-08T18:06:09.968504Z",
     "iopub.status.busy": "2022-09-08T18:06:09.967779Z",
     "iopub.status.idle": "2022-09-08T18:06:09.986527Z",
     "shell.execute_reply": "2022-09-08T18:06:09.984536Z"
    },
    "papermill": {
     "duration": 0.028629,
     "end_time": "2022-09-08T18:06:09.989799",
     "exception": false,
     "start_time": "2022-09-08T18:06:09.961170",
     "status": "completed"
    },
    "tags": []
   },
   "outputs": [],
   "source": [
    "import pandas as pd\n",
    "import numpy as np"
   ]
  },
  {
   "cell_type": "code",
   "execution_count": 2,
   "id": "3660df79",
   "metadata": {
    "execution": {
     "iopub.execute_input": "2022-09-08T18:06:10.001300Z",
     "iopub.status.busy": "2022-09-08T18:06:10.000335Z",
     "iopub.status.idle": "2022-09-08T18:06:10.065509Z",
     "shell.execute_reply": "2022-09-08T18:06:10.064140Z"
    },
    "papermill": {
     "duration": 0.07398,
     "end_time": "2022-09-08T18:06:10.068338",
     "exception": false,
     "start_time": "2022-09-08T18:06:09.994358",
     "status": "completed"
    },
    "tags": []
   },
   "outputs": [],
   "source": [
    "df=pd.read_csv(\"../input/titanic/train.csv\")\n",
    "df=pd.get_dummies(df,columns=['Sex',\"Embarked\"])\n",
    "df=df.fillna(df[\"Age\"].mean())\n",
    "df.pop('Name')\n",
    "df.pop(\"Ticket\")\n",
    "df.pop(\"Cabin\")\n",
    "y_train=df['Survived']\n",
    "df.pop('Survived')\n",
    "df.pop('PassengerId')\n",
    "# df.pop('Fare')\n",
    "X_train=df[:]\n",
    "\n",
    "# print(x,\"\\n\\n\",y)"
   ]
  },
  {
   "cell_type": "code",
   "execution_count": 3,
   "id": "4e3a9aff",
   "metadata": {
    "execution": {
     "iopub.execute_input": "2022-09-08T18:06:10.078781Z",
     "iopub.status.busy": "2022-09-08T18:06:10.078307Z",
     "iopub.status.idle": "2022-09-08T18:06:10.152068Z",
     "shell.execute_reply": "2022-09-08T18:06:10.150373Z"
    },
    "papermill": {
     "duration": 0.082892,
     "end_time": "2022-09-08T18:06:10.155206",
     "exception": false,
     "start_time": "2022-09-08T18:06:10.072314",
     "status": "completed"
    },
    "tags": []
   },
   "outputs": [
    {
     "data": {
      "text/html": [
       "<div>\n",
       "<style scoped>\n",
       "    .dataframe tbody tr th:only-of-type {\n",
       "        vertical-align: middle;\n",
       "    }\n",
       "\n",
       "    .dataframe tbody tr th {\n",
       "        vertical-align: top;\n",
       "    }\n",
       "\n",
       "    .dataframe thead th {\n",
       "        text-align: right;\n",
       "    }\n",
       "</style>\n",
       "<table border=\"1\" class=\"dataframe\">\n",
       "  <thead>\n",
       "    <tr style=\"text-align: right;\">\n",
       "      <th></th>\n",
       "      <th>Pclass</th>\n",
       "      <th>Age</th>\n",
       "      <th>SibSp</th>\n",
       "      <th>Parch</th>\n",
       "      <th>Fare</th>\n",
       "      <th>Sex_female</th>\n",
       "      <th>Sex_male</th>\n",
       "      <th>Embarked_C</th>\n",
       "      <th>Embarked_Q</th>\n",
       "      <th>Embarked_S</th>\n",
       "    </tr>\n",
       "  </thead>\n",
       "  <tbody>\n",
       "    <tr>\n",
       "      <th>0</th>\n",
       "      <td>3</td>\n",
       "      <td>34.5</td>\n",
       "      <td>0</td>\n",
       "      <td>0</td>\n",
       "      <td>7.8292</td>\n",
       "      <td>0</td>\n",
       "      <td>1</td>\n",
       "      <td>0</td>\n",
       "      <td>1</td>\n",
       "      <td>0</td>\n",
       "    </tr>\n",
       "    <tr>\n",
       "      <th>1</th>\n",
       "      <td>3</td>\n",
       "      <td>47.0</td>\n",
       "      <td>1</td>\n",
       "      <td>0</td>\n",
       "      <td>7.0000</td>\n",
       "      <td>1</td>\n",
       "      <td>0</td>\n",
       "      <td>0</td>\n",
       "      <td>0</td>\n",
       "      <td>1</td>\n",
       "    </tr>\n",
       "    <tr>\n",
       "      <th>2</th>\n",
       "      <td>2</td>\n",
       "      <td>62.0</td>\n",
       "      <td>0</td>\n",
       "      <td>0</td>\n",
       "      <td>9.6875</td>\n",
       "      <td>0</td>\n",
       "      <td>1</td>\n",
       "      <td>0</td>\n",
       "      <td>1</td>\n",
       "      <td>0</td>\n",
       "    </tr>\n",
       "    <tr>\n",
       "      <th>3</th>\n",
       "      <td>3</td>\n",
       "      <td>27.0</td>\n",
       "      <td>0</td>\n",
       "      <td>0</td>\n",
       "      <td>8.6625</td>\n",
       "      <td>0</td>\n",
       "      <td>1</td>\n",
       "      <td>0</td>\n",
       "      <td>0</td>\n",
       "      <td>1</td>\n",
       "    </tr>\n",
       "    <tr>\n",
       "      <th>4</th>\n",
       "      <td>3</td>\n",
       "      <td>22.0</td>\n",
       "      <td>1</td>\n",
       "      <td>1</td>\n",
       "      <td>12.2875</td>\n",
       "      <td>1</td>\n",
       "      <td>0</td>\n",
       "      <td>0</td>\n",
       "      <td>0</td>\n",
       "      <td>1</td>\n",
       "    </tr>\n",
       "    <tr>\n",
       "      <th>...</th>\n",
       "      <td>...</td>\n",
       "      <td>...</td>\n",
       "      <td>...</td>\n",
       "      <td>...</td>\n",
       "      <td>...</td>\n",
       "      <td>...</td>\n",
       "      <td>...</td>\n",
       "      <td>...</td>\n",
       "      <td>...</td>\n",
       "      <td>...</td>\n",
       "    </tr>\n",
       "    <tr>\n",
       "      <th>413</th>\n",
       "      <td>3</td>\n",
       "      <td>29.0</td>\n",
       "      <td>0</td>\n",
       "      <td>0</td>\n",
       "      <td>8.0500</td>\n",
       "      <td>0</td>\n",
       "      <td>1</td>\n",
       "      <td>0</td>\n",
       "      <td>0</td>\n",
       "      <td>1</td>\n",
       "    </tr>\n",
       "    <tr>\n",
       "      <th>414</th>\n",
       "      <td>1</td>\n",
       "      <td>39.0</td>\n",
       "      <td>0</td>\n",
       "      <td>0</td>\n",
       "      <td>108.9000</td>\n",
       "      <td>1</td>\n",
       "      <td>0</td>\n",
       "      <td>1</td>\n",
       "      <td>0</td>\n",
       "      <td>0</td>\n",
       "    </tr>\n",
       "    <tr>\n",
       "      <th>415</th>\n",
       "      <td>3</td>\n",
       "      <td>38.5</td>\n",
       "      <td>0</td>\n",
       "      <td>0</td>\n",
       "      <td>7.2500</td>\n",
       "      <td>0</td>\n",
       "      <td>1</td>\n",
       "      <td>0</td>\n",
       "      <td>0</td>\n",
       "      <td>1</td>\n",
       "    </tr>\n",
       "    <tr>\n",
       "      <th>416</th>\n",
       "      <td>3</td>\n",
       "      <td>29.0</td>\n",
       "      <td>0</td>\n",
       "      <td>0</td>\n",
       "      <td>8.0500</td>\n",
       "      <td>0</td>\n",
       "      <td>1</td>\n",
       "      <td>0</td>\n",
       "      <td>0</td>\n",
       "      <td>1</td>\n",
       "    </tr>\n",
       "    <tr>\n",
       "      <th>417</th>\n",
       "      <td>3</td>\n",
       "      <td>29.0</td>\n",
       "      <td>1</td>\n",
       "      <td>1</td>\n",
       "      <td>22.3583</td>\n",
       "      <td>0</td>\n",
       "      <td>1</td>\n",
       "      <td>1</td>\n",
       "      <td>0</td>\n",
       "      <td>0</td>\n",
       "    </tr>\n",
       "  </tbody>\n",
       "</table>\n",
       "<p>418 rows × 10 columns</p>\n",
       "</div>"
      ],
      "text/plain": [
       "     Pclass   Age  SibSp  Parch      Fare  Sex_female  Sex_male  Embarked_C  \\\n",
       "0         3  34.5      0      0    7.8292           0         1           0   \n",
       "1         3  47.0      1      0    7.0000           1         0           0   \n",
       "2         2  62.0      0      0    9.6875           0         1           0   \n",
       "3         3  27.0      0      0    8.6625           0         1           0   \n",
       "4         3  22.0      1      1   12.2875           1         0           0   \n",
       "..      ...   ...    ...    ...       ...         ...       ...         ...   \n",
       "413       3  29.0      0      0    8.0500           0         1           0   \n",
       "414       1  39.0      0      0  108.9000           1         0           1   \n",
       "415       3  38.5      0      0    7.2500           0         1           0   \n",
       "416       3  29.0      0      0    8.0500           0         1           0   \n",
       "417       3  29.0      1      1   22.3583           0         1           1   \n",
       "\n",
       "     Embarked_Q  Embarked_S  \n",
       "0             1           0  \n",
       "1             0           1  \n",
       "2             1           0  \n",
       "3             0           1  \n",
       "4             0           1  \n",
       "..          ...         ...  \n",
       "413           0           1  \n",
       "414           0           0  \n",
       "415           0           1  \n",
       "416           0           1  \n",
       "417           0           0  \n",
       "\n",
       "[418 rows x 10 columns]"
      ]
     },
     "execution_count": 3,
     "metadata": {},
     "output_type": "execute_result"
    }
   ],
   "source": [
    "df=pd.read_csv(\"../input/titanic/test.csv\")\n",
    "Id=df['PassengerId']\n",
    "df2=pd.read_csv(\"../input/titanic/gender_submission.csv\")\n",
    "df=pd.get_dummies(df,columns=['Sex',\"Embarked\"])\n",
    "df=df.fillna(29)\n",
    "df.pop('Name')\n",
    "df.pop(\"Ticket\")\n",
    "df.pop(\"Cabin\")\n",
    "y_test=df2['Survived']\n",
    "df.pop('PassengerId')\n",
    "# df.pop('Fare')\n",
    "X_test=df[:]\n",
    "df\n"
   ]
  },
  {
   "cell_type": "code",
   "execution_count": 4,
   "id": "582337e4",
   "metadata": {
    "execution": {
     "iopub.execute_input": "2022-09-08T18:06:10.166663Z",
     "iopub.status.busy": "2022-09-08T18:06:10.166218Z",
     "iopub.status.idle": "2022-09-08T18:06:11.781946Z",
     "shell.execute_reply": "2022-09-08T18:06:11.780179Z"
    },
    "papermill": {
     "duration": 1.626197,
     "end_time": "2022-09-08T18:06:11.786636",
     "exception": false,
     "start_time": "2022-09-08T18:06:10.160439",
     "status": "completed"
    },
    "tags": []
   },
   "outputs": [
    {
     "name": "stdout",
     "output_type": "stream",
     "text": [
      "(891, 10)\n",
      "[-0.78927234]\n"
     ]
    }
   ],
   "source": [
    "from sklearn.preprocessing import StandardScaler\n",
    "sc_X = StandardScaler()\n",
    "X_train = sc_X.fit_transform(X_train)\n",
    "X_test = sc_X.transform(X_test)\n",
    "sc_y = StandardScaler()\n",
    "y_train = np.array(y_train).reshape(-1,1)\n",
    "y_train = sc_y.fit_transform(y_train)\n",
    "\n",
    "# X_train=X_train.transpose()\n",
    "print(X_train.shape)\n",
    "print(y_train[0])"
   ]
  },
  {
   "cell_type": "code",
   "execution_count": 5,
   "id": "7129917a",
   "metadata": {
    "execution": {
     "iopub.execute_input": "2022-09-08T18:06:11.798046Z",
     "iopub.status.busy": "2022-09-08T18:06:11.796796Z",
     "iopub.status.idle": "2022-09-08T18:06:11.804087Z",
     "shell.execute_reply": "2022-09-08T18:06:11.803090Z"
    },
    "papermill": {
     "duration": 0.016166,
     "end_time": "2022-09-08T18:06:11.807143",
     "exception": false,
     "start_time": "2022-09-08T18:06:11.790977",
     "status": "completed"
    },
    "tags": []
   },
   "outputs": [],
   "source": [
    "from sklearn import preprocessing\n",
    "from sklearn import utils\n",
    "\n",
    "#convert y values to categorical values\n",
    "lab = preprocessing.LabelEncoder()\n",
    "y_train = lab.fit_transform(y_train.ravel())\n",
    "\n",
    "#view transformed values\n",
    "# print(y_train)"
   ]
  },
  {
   "cell_type": "code",
   "execution_count": 6,
   "id": "fc770c17",
   "metadata": {
    "execution": {
     "iopub.execute_input": "2022-09-08T18:06:11.818127Z",
     "iopub.status.busy": "2022-09-08T18:06:11.817396Z",
     "iopub.status.idle": "2022-09-08T18:06:12.081734Z",
     "shell.execute_reply": "2022-09-08T18:06:12.080096Z"
    },
    "papermill": {
     "duration": 0.273807,
     "end_time": "2022-09-08T18:06:12.085132",
     "exception": false,
     "start_time": "2022-09-08T18:06:11.811325",
     "status": "completed"
    },
    "tags": []
   },
   "outputs": [
    {
     "data": {
      "text/plain": [
       "LogisticRegression()"
      ]
     },
     "execution_count": 6,
     "metadata": {},
     "output_type": "execute_result"
    }
   ],
   "source": [
    "from sklearn.linear_model import LogisticRegression\n",
    "model = LogisticRegression()\n",
    "model.fit(X_train, y_train)\n"
   ]
  },
  {
   "cell_type": "code",
   "execution_count": 7,
   "id": "cc995633",
   "metadata": {
    "execution": {
     "iopub.execute_input": "2022-09-08T18:06:12.097735Z",
     "iopub.status.busy": "2022-09-08T18:06:12.096457Z",
     "iopub.status.idle": "2022-09-08T18:06:12.102966Z",
     "shell.execute_reply": "2022-09-08T18:06:12.101884Z"
    },
    "papermill": {
     "duration": 0.016806,
     "end_time": "2022-09-08T18:06:12.106445",
     "exception": false,
     "start_time": "2022-09-08T18:06:12.089639",
     "status": "completed"
    },
    "tags": []
   },
   "outputs": [],
   "source": [
    "# from sklearn.ensemble import RandomForestClassifier\n",
    "# model = RandomForestClassifier()\n",
    "# model.fit(X_train, y_train)"
   ]
  },
  {
   "cell_type": "code",
   "execution_count": 8,
   "id": "4144e075",
   "metadata": {
    "execution": {
     "iopub.execute_input": "2022-09-08T18:06:12.123346Z",
     "iopub.status.busy": "2022-09-08T18:06:12.119951Z",
     "iopub.status.idle": "2022-09-08T18:06:12.131315Z",
     "shell.execute_reply": "2022-09-08T18:06:12.129213Z"
    },
    "papermill": {
     "duration": 0.021536,
     "end_time": "2022-09-08T18:06:12.134537",
     "exception": false,
     "start_time": "2022-09-08T18:06:12.113001",
     "status": "completed"
    },
    "tags": []
   },
   "outputs": [],
   "source": [
    "from sklearn.metrics import mean_squared_error,accuracy_score\n",
    "import pandas as pd\n",
    "y_pred = model.predict(X_test)\n",
    "\n",
    "\n",
    "# df = pd.DataFrame(y_pred)\n",
    "# df.to_csv('submission.csv')\n"
   ]
  },
  {
   "cell_type": "code",
   "execution_count": 9,
   "id": "ff4682a6",
   "metadata": {
    "execution": {
     "iopub.execute_input": "2022-09-08T18:06:12.151444Z",
     "iopub.status.busy": "2022-09-08T18:06:12.150329Z",
     "iopub.status.idle": "2022-09-08T18:06:12.158756Z",
     "shell.execute_reply": "2022-09-08T18:06:12.157750Z"
    },
    "papermill": {
     "duration": 0.021817,
     "end_time": "2022-09-08T18:06:12.162052",
     "exception": false,
     "start_time": "2022-09-08T18:06:12.140235",
     "status": "completed"
    },
    "tags": []
   },
   "outputs": [
    {
     "data": {
      "text/plain": [
       "0.9449760765550239"
      ]
     },
     "execution_count": 9,
     "metadata": {},
     "output_type": "execute_result"
    }
   ],
   "source": [
    "from sklearn.metrics import accuracy_score\n",
    "a=accuracy_score(y_test, y_pred)\n",
    "a"
   ]
  },
  {
   "cell_type": "code",
   "execution_count": 10,
   "id": "a21708e0",
   "metadata": {
    "_kg_hide-output": true,
    "execution": {
     "iopub.execute_input": "2022-09-08T18:06:12.175982Z",
     "iopub.status.busy": "2022-09-08T18:06:12.175229Z",
     "iopub.status.idle": "2022-09-08T18:06:12.186905Z",
     "shell.execute_reply": "2022-09-08T18:06:12.185573Z"
    },
    "papermill": {
     "duration": 0.023237,
     "end_time": "2022-09-08T18:06:12.190116",
     "exception": false,
     "start_time": "2022-09-08T18:06:12.166879",
     "status": "completed"
    },
    "tags": []
   },
   "outputs": [],
   "source": [
    "import csv\n",
    "\n",
    "with open('submission.csv', 'w', newline='') as csvfile:\n",
    "    fieldnames = ['PassengerId', 'Survived']\n",
    "    writer = csv.DictWriter(csvfile, fieldnames=fieldnames)\n",
    "\n",
    "    writer.writeheader()\n",
    "    for i in range(0,len(Id)):\n",
    "        writer.writerow({'PassengerId': Id[i], 'Survived': y_pred[i]})\n",
    "    "
   ]
  }
 ],
 "metadata": {
  "kernelspec": {
   "display_name": "Python 3",
   "language": "python",
   "name": "python3"
  },
  "language_info": {
   "codemirror_mode": {
    "name": "ipython",
    "version": 3
   },
   "file_extension": ".py",
   "mimetype": "text/x-python",
   "name": "python",
   "nbconvert_exporter": "python",
   "pygments_lexer": "ipython3",
   "version": "3.7.12"
  },
  "papermill": {
   "default_parameters": {},
   "duration": 18.122036,
   "end_time": "2022-09-08T18:06:13.123362",
   "environment_variables": {},
   "exception": null,
   "input_path": "__notebook__.ipynb",
   "output_path": "__notebook__.ipynb",
   "parameters": {},
   "start_time": "2022-09-08T18:05:55.001326",
   "version": "2.3.4"
  }
 },
 "nbformat": 4,
 "nbformat_minor": 5
}
